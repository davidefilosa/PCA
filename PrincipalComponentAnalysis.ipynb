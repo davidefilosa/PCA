{
 "cells": [
  {
   "cell_type": "markdown",
   "id": "633fde97",
   "metadata": {},
   "source": [
    "# Principal Component Analysis (PCA)\n",
    "\n",
    "\n",
    "When we need to analyze a large dataset with an high number of of dimensions/features we can use Principal Component Analysis (PCA) to transform this high dimensional data into lower dimensional data.\n",
    "\n",
    "One of the reasons we should do this is that if we are trying to gain insight from an analysis, having too many predictors could make things more complicated.\n",
    "\n",
    "Another problem that PCA helps us solve is the multicollinearity.\n",
    "\n",
    "Multicollinearity is a statistical concept where several independent variables in a model are correlated. It means that some indipendent variables contain the same information about the dependent variable.\n",
    "\n",
    "PCA allows us to achieve this combining 2 or more variables into components. "
   ]
  },
  {
   "cell_type": "markdown",
   "id": "a6dae7c3",
   "metadata": {},
   "source": [
    "Importing libraries and data"
   ]
  },
  {
   "cell_type": "code",
   "execution_count": 1,
   "id": "fed1ffc5",
   "metadata": {},
   "outputs": [],
   "source": [
    "import pandas as pd\n",
    "import matplotlib.pyplot as plt\n",
    "import numpy as np\n",
    "from sklearn.decomposition import PCA\n",
    "import seaborn as sns\n",
    "from sklearn.preprocessing import MinMaxScaler\n",
    "\n",
    "df = pd.read_csv('houses_to_rent.csv')\n"
   ]
  },
  {
   "cell_type": "markdown",
   "id": "36e8f777",
   "metadata": {},
   "source": [
    "General information, and preview of first/last five rows, description of datasets"
   ]
  },
  {
   "cell_type": "code",
   "execution_count": 2,
   "id": "2a9ee2bb",
   "metadata": {},
   "outputs": [
    {
     "data": {
      "text/html": [
       "<div>\n",
       "<style scoped>\n",
       "    .dataframe tbody tr th:only-of-type {\n",
       "        vertical-align: middle;\n",
       "    }\n",
       "\n",
       "    .dataframe tbody tr th {\n",
       "        vertical-align: top;\n",
       "    }\n",
       "\n",
       "    .dataframe thead th {\n",
       "        text-align: right;\n",
       "    }\n",
       "</style>\n",
       "<table border=\"1\" class=\"dataframe\">\n",
       "  <thead>\n",
       "    <tr style=\"text-align: right;\">\n",
       "      <th></th>\n",
       "      <th>city</th>\n",
       "      <th>area</th>\n",
       "      <th>rooms</th>\n",
       "      <th>bathroom</th>\n",
       "      <th>parking spaces</th>\n",
       "      <th>floor</th>\n",
       "      <th>animal</th>\n",
       "      <th>furniture</th>\n",
       "      <th>rent amount</th>\n",
       "    </tr>\n",
       "  </thead>\n",
       "  <tbody>\n",
       "    <tr>\n",
       "      <th>0</th>\n",
       "      <td>1</td>\n",
       "      <td>240</td>\n",
       "      <td>3</td>\n",
       "      <td>3</td>\n",
       "      <td>4</td>\n",
       "      <td>0</td>\n",
       "      <td>acept</td>\n",
       "      <td>furnished</td>\n",
       "      <td>8000</td>\n",
       "    </tr>\n",
       "    <tr>\n",
       "      <th>1</th>\n",
       "      <td>0</td>\n",
       "      <td>64</td>\n",
       "      <td>2</td>\n",
       "      <td>1</td>\n",
       "      <td>1</td>\n",
       "      <td>10</td>\n",
       "      <td>acept</td>\n",
       "      <td>not furnished</td>\n",
       "      <td>820</td>\n",
       "    </tr>\n",
       "    <tr>\n",
       "      <th>2</th>\n",
       "      <td>1</td>\n",
       "      <td>443</td>\n",
       "      <td>5</td>\n",
       "      <td>5</td>\n",
       "      <td>4</td>\n",
       "      <td>3</td>\n",
       "      <td>acept</td>\n",
       "      <td>furnished</td>\n",
       "      <td>7000</td>\n",
       "    </tr>\n",
       "    <tr>\n",
       "      <th>3</th>\n",
       "      <td>1</td>\n",
       "      <td>73</td>\n",
       "      <td>2</td>\n",
       "      <td>2</td>\n",
       "      <td>1</td>\n",
       "      <td>12</td>\n",
       "      <td>acept</td>\n",
       "      <td>not furnished</td>\n",
       "      <td>1250</td>\n",
       "    </tr>\n",
       "    <tr>\n",
       "      <th>4</th>\n",
       "      <td>1</td>\n",
       "      <td>19</td>\n",
       "      <td>1</td>\n",
       "      <td>1</td>\n",
       "      <td>0</td>\n",
       "      <td>0</td>\n",
       "      <td>not acept</td>\n",
       "      <td>not furnished</td>\n",
       "      <td>1200</td>\n",
       "    </tr>\n",
       "  </tbody>\n",
       "</table>\n",
       "</div>"
      ],
      "text/plain": [
       "   city  area  rooms  bathroom  parking spaces  floor     animal  \\\n",
       "0     1   240      3         3               4      0      acept   \n",
       "1     0    64      2         1               1     10      acept   \n",
       "2     1   443      5         5               4      3      acept   \n",
       "3     1    73      2         2               1     12      acept   \n",
       "4     1    19      1         1               0      0  not acept   \n",
       "\n",
       "       furniture  rent amount  \n",
       "0      furnished         8000  \n",
       "1  not furnished          820  \n",
       "2      furnished         7000  \n",
       "3  not furnished         1250  \n",
       "4  not furnished         1200  "
      ]
     },
     "execution_count": 2,
     "metadata": {},
     "output_type": "execute_result"
    }
   ],
   "source": [
    "df.head()"
   ]
  },
  {
   "cell_type": "code",
   "execution_count": 3,
   "id": "60e15947",
   "metadata": {},
   "outputs": [
    {
     "name": "stdout",
     "output_type": "stream",
     "text": [
      "<class 'pandas.core.frame.DataFrame'>\n",
      "RangeIndex: 6080 entries, 0 to 6079\n",
      "Data columns (total 9 columns):\n",
      " #   Column          Non-Null Count  Dtype \n",
      "---  ------          --------------  ----- \n",
      " 0   city            6080 non-null   int64 \n",
      " 1   area            6080 non-null   int64 \n",
      " 2   rooms           6080 non-null   int64 \n",
      " 3   bathroom        6080 non-null   int64 \n",
      " 4   parking spaces  6080 non-null   int64 \n",
      " 5   floor           6080 non-null   int64 \n",
      " 6   animal          6080 non-null   object\n",
      " 7   furniture       6080 non-null   object\n",
      " 8   rent amount     6080 non-null   int64 \n",
      "dtypes: int64(7), object(2)\n",
      "memory usage: 427.6+ KB\n"
     ]
    }
   ],
   "source": [
    "df.info()"
   ]
  },
  {
   "cell_type": "markdown",
   "id": "3645f509",
   "metadata": {},
   "source": [
    "Trasforming String Valiables"
   ]
  },
  {
   "cell_type": "code",
   "execution_count": 4,
   "id": "460ec2b9",
   "metadata": {},
   "outputs": [],
   "source": [
    "df[['animal', 'furniture']] = pd.get_dummies(data=df[['animal', 'furniture']], drop_first=True)"
   ]
  },
  {
   "cell_type": "code",
   "execution_count": 5,
   "id": "ded646de",
   "metadata": {},
   "outputs": [
    {
     "data": {
      "text/html": [
       "<div>\n",
       "<style scoped>\n",
       "    .dataframe tbody tr th:only-of-type {\n",
       "        vertical-align: middle;\n",
       "    }\n",
       "\n",
       "    .dataframe tbody tr th {\n",
       "        vertical-align: top;\n",
       "    }\n",
       "\n",
       "    .dataframe thead th {\n",
       "        text-align: right;\n",
       "    }\n",
       "</style>\n",
       "<table border=\"1\" class=\"dataframe\">\n",
       "  <thead>\n",
       "    <tr style=\"text-align: right;\">\n",
       "      <th></th>\n",
       "      <th>city</th>\n",
       "      <th>area</th>\n",
       "      <th>rooms</th>\n",
       "      <th>bathroom</th>\n",
       "      <th>parking spaces</th>\n",
       "      <th>floor</th>\n",
       "      <th>animal</th>\n",
       "      <th>furniture</th>\n",
       "      <th>rent amount</th>\n",
       "    </tr>\n",
       "  </thead>\n",
       "  <tbody>\n",
       "    <tr>\n",
       "      <th>0</th>\n",
       "      <td>1</td>\n",
       "      <td>240</td>\n",
       "      <td>3</td>\n",
       "      <td>3</td>\n",
       "      <td>4</td>\n",
       "      <td>0</td>\n",
       "      <td>0</td>\n",
       "      <td>0</td>\n",
       "      <td>8000</td>\n",
       "    </tr>\n",
       "  </tbody>\n",
       "</table>\n",
       "</div>"
      ],
      "text/plain": [
       "   city  area  rooms  bathroom  parking spaces  floor  animal  furniture  \\\n",
       "0     1   240      3         3               4      0       0          0   \n",
       "\n",
       "   rent amount  \n",
       "0         8000  "
      ]
     },
     "execution_count": 5,
     "metadata": {},
     "output_type": "execute_result"
    }
   ],
   "source": [
    "df.head(1)"
   ]
  },
  {
   "cell_type": "markdown",
   "id": "2d8e7435",
   "metadata": {},
   "source": [
    "### Correlation matrix"
   ]
  },
  {
   "cell_type": "code",
   "execution_count": 6,
   "id": "a220bd90",
   "metadata": {},
   "outputs": [],
   "source": [
    "# Creting df with only predictors\n",
    "X = df.drop(columns='rent amount', axis=1)"
   ]
  },
  {
   "cell_type": "code",
   "execution_count": 7,
   "id": "0cdca83d",
   "metadata": {},
   "outputs": [
    {
     "data": {
      "image/png": "[encoded data removed]",
      "text/plain": [
       "<Figure size 864x432 with 2 Axes>"
      ]
     },
     "metadata": {
      "needs_background": "light"
     },
     "output_type": "display_data"
    }
   ],
   "source": [
    "plt.figure(figsize=(12,6))\n",
    "sns.heatmap(data=X.corr(), annot=True, fmt='.1g', cmap='coolwarm')\n",
    "plt.title('Correlation Matrix for the indipendent variables')\n",
    "plt.show()"
   ]
  },
  {
   "cell_type": "markdown",
   "id": "95f795b0",
   "metadata": {},
   "source": [
    "There is another correlation between some of the independent variables."
   ]
  },
  {
   "cell_type": "markdown",
   "id": "dba2da8e",
   "metadata": {},
   "source": [
    "### Standardizing Variables"
   ]
  },
  {
   "cell_type": "code",
   "execution_count": 8,
   "id": "eadd1193",
   "metadata": {},
   "outputs": [],
   "source": [
    "scaler = MinMaxScaler()\n",
    "X_scaled = scaler.fit_transform(X)"
   ]
  },
  {
   "cell_type": "code",
   "execution_count": 9,
   "id": "4de858db",
   "metadata": {},
   "outputs": [
    {
     "data": {
      "text/html": [
       "<div>\n",
       "<style scoped>\n",
       "    .dataframe tbody tr th:only-of-type {\n",
       "        vertical-align: middle;\n",
       "    }\n",
       "\n",
       "    .dataframe tbody tr th {\n",
       "        vertical-align: top;\n",
       "    }\n",
       "\n",
       "    .dataframe thead th {\n",
       "        text-align: right;\n",
       "    }\n",
       "</style>\n",
       "<table border=\"1\" class=\"dataframe\">\n",
       "  <thead>\n",
       "    <tr style=\"text-align: right;\">\n",
       "      <th></th>\n",
       "      <th>city</th>\n",
       "      <th>area</th>\n",
       "      <th>rooms</th>\n",
       "      <th>bathroom</th>\n",
       "      <th>parking spaces</th>\n",
       "      <th>floor</th>\n",
       "      <th>animal</th>\n",
       "      <th>furniture</th>\n",
       "    </tr>\n",
       "  </thead>\n",
       "  <tbody>\n",
       "    <tr>\n",
       "      <th>0</th>\n",
       "      <td>1.0</td>\n",
       "      <td>0.009351</td>\n",
       "      <td>0.222222</td>\n",
       "      <td>0.222222</td>\n",
       "      <td>0.333333</td>\n",
       "      <td>0.000000</td>\n",
       "      <td>0.0</td>\n",
       "      <td>0.0</td>\n",
       "    </tr>\n",
       "    <tr>\n",
       "      <th>1</th>\n",
       "      <td>0.0</td>\n",
       "      <td>0.002195</td>\n",
       "      <td>0.111111</td>\n",
       "      <td>0.000000</td>\n",
       "      <td>0.083333</td>\n",
       "      <td>0.101010</td>\n",
       "      <td>0.0</td>\n",
       "      <td>1.0</td>\n",
       "    </tr>\n",
       "    <tr>\n",
       "      <th>2</th>\n",
       "      <td>1.0</td>\n",
       "      <td>0.017604</td>\n",
       "      <td>0.444444</td>\n",
       "      <td>0.444444</td>\n",
       "      <td>0.333333</td>\n",
       "      <td>0.030303</td>\n",
       "      <td>0.0</td>\n",
       "      <td>0.0</td>\n",
       "    </tr>\n",
       "    <tr>\n",
       "      <th>3</th>\n",
       "      <td>1.0</td>\n",
       "      <td>0.002561</td>\n",
       "      <td>0.111111</td>\n",
       "      <td>0.111111</td>\n",
       "      <td>0.083333</td>\n",
       "      <td>0.121212</td>\n",
       "      <td>0.0</td>\n",
       "      <td>1.0</td>\n",
       "    </tr>\n",
       "    <tr>\n",
       "      <th>4</th>\n",
       "      <td>1.0</td>\n",
       "      <td>0.000366</td>\n",
       "      <td>0.000000</td>\n",
       "      <td>0.000000</td>\n",
       "      <td>0.000000</td>\n",
       "      <td>0.000000</td>\n",
       "      <td>1.0</td>\n",
       "      <td>1.0</td>\n",
       "    </tr>\n",
       "  </tbody>\n",
       "</table>\n",
       "</div>"
      ],
      "text/plain": [
       "   city      area     rooms  bathroom  parking spaces     floor  animal  \\\n",
       "0   1.0  0.009351  0.222222  0.222222        0.333333  0.000000     0.0   \n",
       "1   0.0  0.002195  0.111111  0.000000        0.083333  0.101010     0.0   \n",
       "2   1.0  0.017604  0.444444  0.444444        0.333333  0.030303     0.0   \n",
       "3   1.0  0.002561  0.111111  0.111111        0.083333  0.121212     0.0   \n",
       "4   1.0  0.000366  0.000000  0.000000        0.000000  0.000000     1.0   \n",
       "\n",
       "   furniture  \n",
       "0        0.0  \n",
       "1        1.0  \n",
       "2        0.0  \n",
       "3        1.0  \n",
       "4        1.0  "
      ]
     },
     "execution_count": 9,
     "metadata": {},
     "output_type": "execute_result"
    }
   ],
   "source": [
    "# Recreating DataFrame\n",
    "X_scaled = pd.DataFrame(X_scaled, columns = X.columns)\n",
    "X_scaled.head()"
   ]
  },
  {
   "cell_type": "markdown",
   "id": "2c00ee6f",
   "metadata": {},
   "source": [
    "## Principal Component Analysis"
   ]
  },
  {
   "cell_type": "markdown",
   "id": "10677325",
   "metadata": {},
   "source": [
    "Finding the optimal number of components"
   ]
  },
  {
   "cell_type": "code",
   "execution_count": 10,
   "id": "bb999694",
   "metadata": {},
   "outputs": [],
   "source": [
    "model = PCA(random_state=42).fit(X_scaled)\n"
   ]
  },
  {
   "cell_type": "code",
   "execution_count": 11,
   "id": "8e649039",
   "metadata": {},
   "outputs": [
    {
     "data": {
      "image/png": "[encoded data removed]",
      "text/plain": [
       "<Figure size 432x288 with 1 Axes>"
      ]
     },
     "metadata": {
      "needs_background": "light"
     },
     "output_type": "display_data"
    }
   ],
   "source": [
    "plt.plot(model.explained_variance_ratio_)\n",
    "plt.title('Explained Variance')\n",
    "plt.xlabel('Components')\n",
    "plt.ylabel('Explained Variance')\n",
    "plt.show()"
   ]
  },
  {
   "cell_type": "markdown",
   "id": "7fb35e59",
   "metadata": {},
   "source": [
    "Starting from the 4th component the marginal explained variance that each component carries is reduced. Therefore 4 seems to be the optimal number of components."
   ]
  },
  {
   "cell_type": "markdown",
   "id": "5fe88d1d",
   "metadata": {},
   "source": [
    "Plotting Cumulative Explained Variance"
   ]
  },
  {
   "cell_type": "code",
   "execution_count": 12,
   "id": "978200db",
   "metadata": {},
   "outputs": [
    {
     "data": {
      "image/png": "[encoded data removed]",
      "text/plain": [
       "<Figure size 432x288 with 1 Axes>"
      ]
     },
     "metadata": {
      "needs_background": "light"
     },
     "output_type": "display_data"
    }
   ],
   "source": [
    "plt.plot(np.cumsum(model.explained_variance_ratio_))\n",
    "plt.title('Cumulative Explained Variance')\n",
    "plt.xlabel('Components')\n",
    "plt.ylabel('Cumulative Explained Variance')\n",
    "plt.show()"
   ]
  },
  {
   "cell_type": "markdown",
   "id": "75356baf",
   "metadata": {},
   "source": [
    "Again 4 seems to be the optimal number of components."
   ]
  },
  {
   "cell_type": "markdown",
   "id": "d6f7481a",
   "metadata": {},
   "source": [
    "### Creating the model"
   ]
  },
  {
   "cell_type": "code",
   "execution_count": 13,
   "id": "3d79b32f",
   "metadata": {},
   "outputs": [],
   "source": [
    "model = PCA(n_components=4, random_state=42).fit(X_scaled)"
   ]
  },
  {
   "cell_type": "markdown",
   "id": "8db2511d",
   "metadata": {},
   "source": [
    "## PCA Interpretation"
   ]
  },
  {
   "cell_type": "code",
   "execution_count": 14,
   "id": "4c88477c",
   "metadata": {},
   "outputs": [],
   "source": [
    "model_interpretation = pd.DataFrame(model.components_, columns=X.columns)"
   ]
  },
  {
   "cell_type": "code",
   "execution_count": 15,
   "id": "6a199308",
   "metadata": {},
   "outputs": [
    {
     "data": {
      "text/html": [
       "<div>\n",
       "<style scoped>\n",
       "    .dataframe tbody tr th:only-of-type {\n",
       "        vertical-align: middle;\n",
       "    }\n",
       "\n",
       "    .dataframe tbody tr th {\n",
       "        vertical-align: top;\n",
       "    }\n",
       "\n",
       "    .dataframe thead th {\n",
       "        text-align: right;\n",
       "    }\n",
       "</style>\n",
       "<table border=\"1\" class=\"dataframe\">\n",
       "  <thead>\n",
       "    <tr style=\"text-align: right;\">\n",
       "      <th></th>\n",
       "      <th>city</th>\n",
       "      <th>area</th>\n",
       "      <th>rooms</th>\n",
       "      <th>bathroom</th>\n",
       "      <th>parking spaces</th>\n",
       "      <th>floor</th>\n",
       "      <th>animal</th>\n",
       "      <th>furniture</th>\n",
       "    </tr>\n",
       "  </thead>\n",
       "  <tbody>\n",
       "    <tr>\n",
       "      <th>0</th>\n",
       "      <td>0.181418</td>\n",
       "      <td>-0.001894</td>\n",
       "      <td>-0.052840</td>\n",
       "      <td>-0.026016</td>\n",
       "      <td>-0.028430</td>\n",
       "      <td>0.020501</td>\n",
       "      <td>0.513750</td>\n",
       "      <td>-0.835731</td>\n",
       "    </tr>\n",
       "    <tr>\n",
       "      <th>1</th>\n",
       "      <td>-0.087693</td>\n",
       "      <td>-0.002332</td>\n",
       "      <td>-0.055603</td>\n",
       "      <td>-0.079433</td>\n",
       "      <td>-0.064195</td>\n",
       "      <td>-0.008521</td>\n",
       "      <td>0.847689</td>\n",
       "      <td>0.510033</td>\n",
       "    </tr>\n",
       "    <tr>\n",
       "      <th>2</th>\n",
       "      <td>-0.976331</td>\n",
       "      <td>-0.001294</td>\n",
       "      <td>-0.038218</td>\n",
       "      <td>-0.062905</td>\n",
       "      <td>-0.028570</td>\n",
       "      <td>-0.006666</td>\n",
       "      <td>0.009316</td>\n",
       "      <td>-0.201026</td>\n",
       "    </tr>\n",
       "    <tr>\n",
       "      <th>3</th>\n",
       "      <td>-0.075883</td>\n",
       "      <td>0.020620</td>\n",
       "      <td>0.487555</td>\n",
       "      <td>0.685306</td>\n",
       "      <td>0.518733</td>\n",
       "      <td>-0.011778</td>\n",
       "      <td>0.131167</td>\n",
       "      <td>-0.005982</td>\n",
       "    </tr>\n",
       "  </tbody>\n",
       "</table>\n",
       "</div>"
      ],
      "text/plain": [
       "       city      area     rooms  bathroom  parking spaces     floor    animal  \\\n",
       "0  0.181418 -0.001894 -0.052840 -0.026016       -0.028430  0.020501  0.513750   \n",
       "1 -0.087693 -0.002332 -0.055603 -0.079433       -0.064195 -0.008521  0.847689   \n",
       "2 -0.976331 -0.001294 -0.038218 -0.062905       -0.028570 -0.006666  0.009316   \n",
       "3 -0.075883  0.020620  0.487555  0.685306        0.518733 -0.011778  0.131167   \n",
       "\n",
       "   furniture  \n",
       "0  -0.835731  \n",
       "1   0.510033  \n",
       "2  -0.201026  \n",
       "3  -0.005982  "
      ]
     },
     "execution_count": 15,
     "metadata": {},
     "output_type": "execute_result"
    }
   ],
   "source": [
    "model_interpretation"
   ]
  },
  {
   "cell_type": "code",
   "execution_count": 16,
   "id": "88e3eff0",
   "metadata": {},
   "outputs": [
    {
     "data": {
      "text/plain": [
       "city              0.181418\n",
       "area             -0.001894\n",
       "rooms            -0.052840\n",
       "bathroom         -0.026016\n",
       "parking spaces   -0.028430\n",
       "floor             0.020501\n",
       "animal            0.513750\n",
       "furniture        -0.835731\n",
       "Name: 0, dtype: float64"
      ]
     },
     "execution_count": 16,
     "metadata": {},
     "output_type": "execute_result"
    }
   ],
   "source": [
    "model_interpretation.iloc[0]"
   ]
  },
  {
   "cell_type": "markdown",
   "id": "c0e7be07",
   "metadata": {},
   "source": [
    "What most characterizes the first component is that the house is located in the city"
   ]
  },
  {
   "cell_type": "code",
   "execution_count": 17,
   "id": "347fdbcb",
   "metadata": {},
   "outputs": [
    {
     "data": {
      "text/plain": [
       "city             -0.087693\n",
       "area             -0.002332\n",
       "rooms            -0.055603\n",
       "bathroom         -0.079433\n",
       "parking spaces   -0.064195\n",
       "floor            -0.008521\n",
       "animal            0.847689\n",
       "furniture         0.510033\n",
       "Name: 1, dtype: float64"
      ]
     },
     "execution_count": 17,
     "metadata": {},
     "output_type": "execute_result"
    }
   ],
   "source": [
    "model_interpretation.iloc[1]"
   ]
  },
  {
   "cell_type": "markdown",
   "id": "35e88bf9",
   "metadata": {},
   "source": [
    "The second component is characterized by the fact that animals are acceptedand tht the hause has furniture."
   ]
  },
  {
   "cell_type": "code",
   "execution_count": 18,
   "id": "da5bde48",
   "metadata": {},
   "outputs": [
    {
     "data": {
      "text/plain": [
       "city             -0.976331\n",
       "area             -0.001294\n",
       "rooms            -0.038218\n",
       "bathroom         -0.062905\n",
       "parking spaces   -0.028570\n",
       "floor            -0.006666\n",
       "animal            0.009316\n",
       "furniture        -0.201026\n",
       "Name: 2, dtype: float64"
      ]
     },
     "execution_count": 18,
     "metadata": {},
     "output_type": "execute_result"
    }
   ],
   "source": [
    "model_interpretation.iloc[2]"
   ]
  },
  {
   "cell_type": "markdown",
   "id": "36dd491f",
   "metadata": {},
   "source": [
    "The third component is characterized by the fact that the houses are not in the city and tend to be small."
   ]
  },
  {
   "cell_type": "code",
   "execution_count": 19,
   "id": "92f81802",
   "metadata": {},
   "outputs": [
    {
     "data": {
      "text/plain": [
       "city             -0.075883\n",
       "area              0.020620\n",
       "rooms             0.487555\n",
       "bathroom          0.685306\n",
       "parking spaces    0.518733\n",
       "floor            -0.011778\n",
       "animal            0.131167\n",
       "furniture        -0.005982\n",
       "Name: 3, dtype: float64"
      ]
     },
     "execution_count": 19,
     "metadata": {},
     "output_type": "execute_result"
    }
   ],
   "source": [
    "model_interpretation.iloc[3]"
   ]
  },
  {
   "cell_type": "markdown",
   "id": "33b37057",
   "metadata": {},
   "source": [
    "The houses of the 4th component are larger and are not in the city"
   ]
  },
  {
   "cell_type": "code",
   "execution_count": 20,
   "id": "a9eb1d24",
   "metadata": {},
   "outputs": [],
   "source": [
    "components = model.transform(X_scaled)\n",
    "components = pd.DataFrame(components, columns=['city charateristics', 'accepts animal and has furniture', 'rural small house', 'high end house'])"
   ]
  },
  {
   "cell_type": "code",
   "execution_count": 21,
   "id": "e60c8e93",
   "metadata": {},
   "outputs": [
    {
     "data": {
      "text/html": [
       "<div>\n",
       "<style scoped>\n",
       "    .dataframe tbody tr th:only-of-type {\n",
       "        vertical-align: middle;\n",
       "    }\n",
       "\n",
       "    .dataframe tbody tr th {\n",
       "        vertical-align: top;\n",
       "    }\n",
       "\n",
       "    .dataframe thead th {\n",
       "        text-align: right;\n",
       "    }\n",
       "</style>\n",
       "<table border=\"1\" class=\"dataframe\">\n",
       "  <thead>\n",
       "    <tr style=\"text-align: right;\">\n",
       "      <th></th>\n",
       "      <th>city charateristics</th>\n",
       "      <th>accepts animal and has furniture</th>\n",
       "      <th>rural small house</th>\n",
       "      <th>high end house</th>\n",
       "    </tr>\n",
       "  </thead>\n",
       "  <tbody>\n",
       "    <tr>\n",
       "      <th>0</th>\n",
       "      <td>0.512212</td>\n",
       "      <td>-0.606922</td>\n",
       "      <td>0.001389</td>\n",
       "      <td>0.138911</td>\n",
       "    </tr>\n",
       "    <tr>\n",
       "      <th>1</th>\n",
       "      <td>-0.484093</td>\n",
       "      <td>0.029839</td>\n",
       "      <td>0.801398</td>\n",
       "      <td>-0.128672</td>\n",
       "    </tr>\n",
       "    <tr>\n",
       "      <th>2</th>\n",
       "      <td>0.495294</td>\n",
       "      <td>-0.637207</td>\n",
       "      <td>-0.021295</td>\n",
       "      <td>0.399360</td>\n",
       "    </tr>\n",
       "    <tr>\n",
       "      <th>3</th>\n",
       "      <td>-0.305152</td>\n",
       "      <td>-0.066853</td>\n",
       "      <td>-0.182058</td>\n",
       "      <td>-0.128640</td>\n",
       "    </tr>\n",
       "    <tr>\n",
       "      <th>4</th>\n",
       "      <td>0.217248</td>\n",
       "      <td>0.802227</td>\n",
       "      <td>-0.158314</td>\n",
       "      <td>-0.169636</td>\n",
       "    </tr>\n",
       "  </tbody>\n",
       "</table>\n",
       "</div>"
      ],
      "text/plain": [
       "   city charateristics  accepts animal and has furniture  rural small house  \\\n",
       "0             0.512212                         -0.606922           0.001389   \n",
       "1            -0.484093                          0.029839           0.801398   \n",
       "2             0.495294                         -0.637207          -0.021295   \n",
       "3            -0.305152                         -0.066853          -0.182058   \n",
       "4             0.217248                          0.802227          -0.158314   \n",
       "\n",
       "   high end house  \n",
       "0        0.138911  \n",
       "1       -0.128672  \n",
       "2        0.399360  \n",
       "3       -0.128640  \n",
       "4       -0.169636  "
      ]
     },
     "execution_count": 21,
     "metadata": {},
     "output_type": "execute_result"
    }
   ],
   "source": [
    "components.head()"
   ]
  },
  {
   "cell_type": "code",
   "execution_count": null,
   "id": "9af7ee2e",
   "metadata": {},
   "outputs": [],
   "source": []
  }
 ],
 "metadata": {
  "kernelspec": {
   "display_name": "Python 3 (ipykernel)",
   "language": "python",
   "name": "python3"
  },
  "language_info": {
   "codemirror_mode": {
    "name": "ipython",
    "version": 3
   },
   "file_extension": ".py",
   "mimetype": "text/x-python",
   "name": "python",
   "nbconvert_exporter": "python",
   "pygments_lexer": "ipython3",
   "version": "3.9.12"
  }
 },
 "nbformat": 4,
 "nbformat_minor": 5
}
